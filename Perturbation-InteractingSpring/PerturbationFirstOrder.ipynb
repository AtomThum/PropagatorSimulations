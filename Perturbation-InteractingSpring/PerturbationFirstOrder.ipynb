{
  "cells": [
    {
      "cell_type": "code",
      "execution_count": 70,
      "metadata": {
        "execution": {
          "iopub.execute_input": "2024-06-25T07:43:32.257Z",
          "iopub.status.busy": "2024-06-25T07:43:31.894Z",
          "iopub.status.idle": "2024-06-25T07:43:33.683Z"
        }
      },
      "outputs": [
        {
          "data": {
            "text/plain": [
              "extractPolynomial (generic function with 1 method)"
            ]
          },
          "metadata": {},
          "output_type": "display_data"
        }
      ],
      "source": [
        "using SymPy\n",
        "using OffsetArrays\n",
        "\n",
        "@syms q0 q1 q2\n",
        "@syms m t\n",
        "q0′, q1′, q2′, qf′ = symbols(\"q_{0}^{\\\\prime}, q_{1}^{\\\\prime}, q_{2}^{\\\\prime}, q_{F}^{\\\\prime}\")\n",
        "qf = symbols(\"q_F\")\n",
        "t0, t1, t2, tf = symbols(\"t_0, t_1, t_2, t_F\")\n",
        "\n",
        "function extractPolynomial(expr, arg)\n",
        "    expr isa Sym ? nothing : expr = sympify(1)\n",
        "    expr = expand(expr)\n",
        "    polyDegree = Int(degree(expr, arg))\n",
        "    extractOneSet = []\n",
        "    for i in 0:polyDegree\n",
        "        temp = expr.coeff(arg, i)\n",
        "        push!(extractOneSet, temp)\n",
        "    end\n",
        "    polyExt = OffsetVector(extractOneSet, 0:polyDegree)\n",
        "    return polyExt\n",
        "end"
      ]
    },
    {
      "cell_type": "code",
      "execution_count": 71,
      "metadata": {
        "execution": {
          "iopub.execute_input": "2024-06-25T07:43:36.391Z",
          "iopub.status.busy": "2024-06-25T07:43:36.104Z",
          "iopub.status.idle": "2024-06-25T07:43:37.508Z"
        }
      },
      "outputs": [
        {
          "data": {
            "text/latex": [
              "$\\frac{i m \\left(q_{0}^{2} - 2 q_{0} q_{F} + q_{F}^{2}\\right)}{2 t_{F}}$"
            ],
            "text/plain": [
              "    ⎛  2                 2⎞\n",
              "ⅈ⋅m⋅⎝q₀  - 2⋅q₀⋅q_F + q_F ⎠\n",
              "───────────────────────────\n",
              "           2⋅t_F           "
            ]
          },
          "metadata": {},
          "output_type": "display_data"
        }
      ],
      "source": [
        "# Identical functions:\n",
        "idenFunc = IM*m/(2 * (tf - t)) * (qf - q1)^2 + IM*m/(2*t) * (q1 - q0)^2\n",
        "\n",
        "idenPoly = extractPolynomial(idenFunc, q1)\n",
        "idenPolyA = -idenPoly[2]\n",
        "idenPolyB = -idenPoly[1]\n",
        "idenPolyC = -idenPoly[0]\n",
        "\n",
        "idenExp = idenPolyB^2 / (4 * idenPolyA) - idenPolyC\n",
        "simplify(idenExp)"
      ]
    },
    {
      "cell_type": "code",
      "execution_count": 72,
      "metadata": {},
      "outputs": [
        {
          "data": {
            "text/latex": [
              "$- \\frac{2 i \\pi m \\sqrt{\\frac{i t}{m}} \\sqrt{\\frac{i t^{3} \\left(t - t_{F}\\right)^{3}}{m^{3} t_{F}^{3}}} \\left(q_{0} \\left(t - t_{F}\\right) - q_{F} t\\right)}{t \\left(t - t_{F}\\right)}$"
            ],
            "text/plain": [
              "                         _________________                        \n",
              "             _____      ╱    3          3                         \n",
              "            ╱ ⅈ⋅t      ╱  ⅈ⋅t ⋅(t - t_F)                          \n",
              "-2⋅ⅈ⋅π⋅m⋅  ╱  ─── ⋅   ╱   ─────────────── ⋅(q₀⋅(t - t_F) - q_F⋅t) \n",
              "         ╲╱    m     ╱         3    3                             \n",
              "                   ╲╱         m ⋅t_F                              \n",
              "──────────────────────────────────────────────────────────────────\n",
              "                           t⋅(t - t_F)                            "
            ]
          },
          "metadata": {},
          "output_type": "display_data"
        }
      ],
      "source": [
        "# Degree one Gaussian integral\n",
        "\n",
        "ord1int = - idenPolyB / 2 * sqrt(PI/idenPolyA^3)\n",
        "ord1int.simplify()\n",
        "\n",
        "ord1int *= sqrt(2*PI*IM*t/m)\n",
        "ord1int.simplify()"
      ]
    },
    {
      "cell_type": "code",
      "execution_count": 73,
      "metadata": {},
      "outputs": [
        {
          "data": {
            "text/latex": [
              "$- \\frac{2 \\pi m \\sqrt{\\frac{i t}{m}} \\sqrt{- \\frac{i t^{5} \\left(t - t_{F}\\right)^{5}}{m^{5} t_{F}^{5}}} \\left(m \\left(q_{0} \\left(t - t_{F}\\right) - q_{F} t\\right)^{2} - i t^{2} \\left(t - t_{F}\\right) + i t \\left(t - t_{F}\\right)^{2}\\right)}{t^{2} \\left(t - t_{F}\\right)^{2}}$"
            ],
            "text/plain": [
              "                       ___________________                                    \n",
              "           _____      ╱     5          5                                      \n",
              "          ╱ ⅈ⋅t      ╱  -ⅈ⋅t ⋅(t - t_F)    ⎛                        2      2  \n",
              "-2⋅π⋅m⋅  ╱  ─── ⋅   ╱   ───────────────── ⋅⎝m⋅(q₀⋅(t - t_F) - q_F⋅t)  - ⅈ⋅t ⋅(\n",
              "       ╲╱    m     ╱          5    5                                          \n",
              "                 ╲╱          m ⋅t_F                                           \n",
              "──────────────────────────────────────────────────────────────────────────────\n",
              "                                               2          2                   \n",
              "                                              t ⋅(t - t_F)                    \n",
              "\n",
              "                           \n",
              "                           \n",
              "                        2⎞ \n",
              "t - t_F) + ⅈ⋅t⋅(t - t_F) ⎠ \n",
              "                           \n",
              "                           \n",
              "───────────────────────────\n",
              "                           \n",
              "                           "
            ]
          },
          "metadata": {},
          "output_type": "display_data"
        }
      ],
      "source": [
        "# Degree two Gaussian integral\n",
        "\n",
        "ord2int = 1//4 * sqrt(PI/idenPolyA^5) * (2*idenPolyA + idenPolyB^2)\n",
        "ord2int.simplify()\n",
        "\n",
        "ord2int *= sqrt(2*PI*IM*t/m)\n",
        "ord2int.simplify()"
      ]
    },
    {
      "cell_type": "code",
      "execution_count": 74,
      "metadata": {},
      "outputs": [
        {
          "data": {
            "text/latex": [
              "$\\frac{\\sqrt{2} i \\sqrt{\\pi} m^{2} \\sqrt{\\frac{i t^{7} \\left(t - t_{F}\\right)^{7}}{m^{7} t_{F}^{7}}} \\left(q_{0} \\left(t - t_{F}\\right) - q_{F} t\\right) \\left(m \\left(q_{0} \\left(t - t_{F}\\right) - q_{F} t\\right)^{2} - 3 i t^{2} \\left(t - t_{F}\\right) + 3 i t \\left(t - t_{F}\\right)^{2}\\right)}{t^{3} \\left(t - t_{F}\\right)^{3}}$"
            ],
            "text/plain": [
              "                 _________________                                            \n",
              "                ╱    7          7                                             \n",
              "         2     ╱  ⅈ⋅t ⋅(t - t_F)                          ⎛                   \n",
              "√2⋅ⅈ⋅√π⋅m ⋅   ╱   ─────────────── ⋅(q₀⋅(t - t_F) - q_F⋅t)⋅⎝m⋅(q₀⋅(t - t_F) - q\n",
              "             ╱         7    7                                                 \n",
              "           ╲╱         m ⋅t_F                                                  \n",
              "──────────────────────────────────────────────────────────────────────────────\n",
              "                                                        3          3          \n",
              "                                                       t ⋅(t - t_F)           \n",
              "\n",
              "                                             \n",
              "                                             \n",
              "     2        2                            2⎞\n",
              "_F⋅t)  - 3⋅ⅈ⋅t ⋅(t - t_F) + 3⋅ⅈ⋅t⋅(t - t_F) ⎠\n",
              "                                             \n",
              "                                             \n",
              "─────────────────────────────────────────────\n",
              "                                             \n",
              "                                             "
            ]
          },
          "metadata": {},
          "output_type": "display_data"
        }
      ],
      "source": [
        "# Degree three Gaussian integral\n",
        "\n",
        "ord3int = - idenPolyB//8 * sqrt(PI/idenPolyA^7) * (6*idenPolyA + idenPolyB^2)\n",
        "ord3int.simplify()"
      ]
    },
    {
      "cell_type": "code",
      "execution_count": 75,
      "metadata": {},
      "outputs": [
        {
          "data": {
            "text/latex": [
              "$\\frac{\\sqrt{2} \\sqrt{\\pi} m^{2} \\sqrt{- \\frac{i t^{9} \\left(t - t_{F}\\right)^{9}}{m^{9} t_{F}^{9}}} \\left(m^{2} \\left(q_{0} \\left(t - t_{F}\\right) - q_{F} t\\right)^{4} - 6 i m t t_{F} \\left(t - t_{F}\\right) \\left(q_{0} \\left(t - t_{F}\\right) - q_{F} t\\right)^{2} - 3 t^{2} t_{F}^{2} \\left(t - t_{F}\\right)^{2}\\right)}{t^{4} \\left(t - t_{F}\\right)^{4}}$"
            ],
            "text/plain": [
              "               ___________________                                            \n",
              "              ╱     9          9                                              \n",
              "       2     ╱  -ⅈ⋅t ⋅(t - t_F)    ⎛ 2                       4                \n",
              "√2⋅√π⋅m ⋅   ╱   ───────────────── ⋅⎝m ⋅(q₀⋅(t - t_F) - q_F⋅t)  - 6⋅ⅈ⋅m⋅t⋅t_F⋅(\n",
              "           ╱          9    9                                                  \n",
              "         ╲╱          m ⋅t_F                                                   \n",
              "──────────────────────────────────────────────────────────────────────────────\n",
              "                                                             4          4     \n",
              "                                                            t ⋅(t - t_F)      \n",
              "\n",
              "                                                        \n",
              "                                                        \n",
              "                               2      2    2          2⎞\n",
              "t - t_F)⋅(q₀⋅(t - t_F) - q_F⋅t)  - 3⋅t ⋅t_F ⋅(t - t_F) ⎠\n",
              "                                                        \n",
              "                                                        \n",
              "────────────────────────────────────────────────────────\n",
              "                                                        \n",
              "                                                        "
            ]
          },
          "metadata": {},
          "output_type": "display_data"
        }
      ],
      "source": [
        "# Degree four Gaussian integral\n",
        "\n",
        "ord4int = 1//16 * sqrt(PI/idenPolyA^9) * (12*idenPolyA^2 + 12*idenPolyA*idenPolyB^2 + idenPolyB^4)\n",
        "ord4int.simplify()"
      ]
    },
    {
      "cell_type": "code",
      "execution_count": 20,
      "metadata": {},
      "outputs": [
        {
          "data": {
            "text/latex": [
              "$\\frac{t_{F}^{6} \\left(- q'_{0} q_{0} + q'_{0} q_{F} + q'_{F} q_{0} - 2 q'_{F} q_{F}\\right)}{60}$"
            ],
            "text/plain": [
              "   6                                           \n",
              "t_F ⋅(-q'₀⋅q₀ + q'₀⋅q_F + q'_F⋅q₀ - 2⋅q'_F⋅q_F)\n",
              "───────────────────────────────────────────────\n",
              "                       60                      "
            ]
          },
          "metadata": {},
          "output_type": "display_data"
        }
      ],
      "source": [
        "# Finding the integral of IP3 w.r.t. time\n",
        "ord1fin = t^2 * (t - tf) * (q0*(t - tf) + qf*t) * (q0′ *(t - tf) + qf′*t)\n",
        "ord1finExt = extractPolynomial(ord1fin, t)\n",
        "\n",
        "intord1fin = integrate(ord1fin, (t, 0, tf))\n",
        "intord1fin.simplify()"
      ]
    },
    {
      "cell_type": "code",
      "execution_count": 28,
      "metadata": {},
      "outputs": [
        {
          "data": {
            "text/latex": [
              "$\\frac{4 i t_{F}^{\\frac{9}{2}} \\left(- 5 m q_{0}^{2} - 8 m q_{0} q_{F} - 8 m q_{F}^{2} - 4 i t_{F}\\right)}{315}$"
            ],
            "text/plain": [
              "       9/2 ⎛        2                       2          ⎞\n",
              "4⋅ⅈ⋅t_F   ⋅⎝- 5⋅m⋅q₀  - 8⋅m⋅q₀⋅q_F - 8⋅m⋅q_F  - 4⋅ⅈ⋅t_F⎠\n",
              "────────────────────────────────────────────────────────\n",
              "                          315                           "
            ]
          },
          "metadata": {},
          "output_type": "display_data"
        }
      ],
      "source": [
        "# Finding the integral of IP1 w.r.t. time\n",
        "ord2fin = t * sqrt(t - tf) * (-m * (q0 * (t - tf) - qf*t)^2 + IM * t^2 * (t - tf) - IM * t * (t - tf)^2)\n",
        "ord2fin = ord2fin.factor()\n",
        "\n",
        "intord2fin = integrate(ord2fin, (t, 0, tf))\n",
        "intord2fin.simplify()"
      ]
    },
    {
      "cell_type": "code",
      "execution_count": 76,
      "metadata": {},
      "outputs": [
        {
          "data": {
            "text/latex": [
              "$q_{1}^{2} q_{2}^{2} - 2 q_{1}^{2} q_{2} q_{2}^{\\prime} + q_{1}^{2} \\left(q_{2}^{\\prime}\\right)^{2} - 2 q_{1} q_{2}^{2} q_{1}^{\\prime} + 4 q_{1} q_{2} q_{1}^{\\prime} q_{2}^{\\prime} - 2 q_{1} q_{1}^{\\prime} \\left(q_{2}^{\\prime}\\right)^{2} + q_{2}^{2} \\left(q_{1}^{\\prime}\\right)^{2} - 2 q_{2} \\left(q_{1}^{\\prime}\\right)^{2} q_{2}^{\\prime} + \\left(q_{1}^{\\prime}\\right)^{2} \\left(q_{2}^{\\prime}\\right)^{2}$"
            ],
            "text/plain": [
              "  2   2       2                        2                2          2          \n",
              "q₁ ⋅q₂  - 2⋅q₁ ⋅q₂⋅q_{2}__{\\prime} + q₁ ⋅q_{2}__{\\prime}  - 2⋅q₁⋅q₂ ⋅q_{1}__{\\\n",
              "\n",
              "                                                                              \n",
              "prime} + 4⋅q₁⋅q₂⋅q_{1}__{\\prime}⋅q_{2}__{\\prime} - 2⋅q₁⋅q_{1}__{\\prime}⋅q_{2}_\n",
              "\n",
              "         2     2                2                       2                     \n",
              "_{\\prime}  + q₂ ⋅q_{1}__{\\prime}  - 2⋅q₂⋅q_{1}__{\\prime} ⋅q_{2}__{\\prime} + q_\n",
              "\n",
              "             2                2\n",
              "{1}__{\\prime} ⋅q_{2}__{\\prime} "
            ]
          },
          "metadata": {},
          "output_type": "display_data"
        }
      ],
      "source": [
        "ord2pert = ((q2 - q2′)^2 * (q1 - q1′)^2)\n",
        "ord2pert.expand()"
      ]
    }
  ],
  "metadata": {
    "kernelspec": {
      "display_name": "Julia 1.10.4",
      "language": "julia",
      "name": "julia-1.10"
    },
    "language_info": {
      "file_extension": ".jl",
      "mimetype": "application/julia",
      "name": "julia",
      "version": "1.10.4"
    },
    "nteract": {
      "version": "0.28.0"
    }
  },
  "nbformat": 4,
  "nbformat_minor": 2
}
