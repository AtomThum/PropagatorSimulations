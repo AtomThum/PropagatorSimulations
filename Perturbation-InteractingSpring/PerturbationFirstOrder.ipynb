{
  "cells": [
    {
      "cell_type": "code",
      "execution_count": 1,
      "metadata": {
        "execution": {
          "iopub.execute_input": "2024-06-25T07:43:32.257Z",
          "iopub.status.busy": "2024-06-25T07:43:31.894Z",
          "iopub.status.idle": "2024-06-25T07:43:33.683Z"
        }
      },
      "outputs": [
        {
          "data": {
            "text/plain": [
              "extractPolynomial (generic function with 1 method)"
            ]
          },
          "metadata": {},
          "output_type": "display_data"
        }
      ],
      "source": [
        "using SymPy\n",
        "using OffsetArrays\n",
        "using Latexify\n",
        "\n",
        "@syms q0 q1 q2\n",
        "@syms m::(real, positive) t::(real, positive)\n",
        "q0′, q1′, q2′, qf′, qf = symbols(\"q_{0}^{\\\\prime}, q_{1}^{\\\\prime}, q_{2}^{\\\\prime}, q_{F}^{\\\\prime}, q_F\")\n",
        "t0, t1, t2, tf = symbols(\"t_0, t_1, t_2, t_F\", real = true, positive = true)\n",
        "\n",
        "function extractPolynomial(expr, arg)\n",
        "    expr isa Sym ? nothing : expr = sympify(1)\n",
        "    expr = expand(expr)\n",
        "    polyDegree = Int(degree(expr, arg))\n",
        "    extractOneSet = []\n",
        "    for i in 0:polyDegree\n",
        "        temp = expr.coeff(arg, i)\n",
        "        push!(extractOneSet, temp)\n",
        "    end\n",
        "    polyExt = OffsetVector(extractOneSet, 0:polyDegree)\n",
        "    return polyExt\n",
        "end"
      ]
    },
    {
      "cell_type": "code",
      "execution_count": 2,
      "metadata": {
        "execution": {
          "iopub.execute_input": "2024-06-25T07:43:36.391Z",
          "iopub.status.busy": "2024-06-25T07:43:36.104Z",
          "iopub.status.idle": "2024-06-25T07:43:37.508Z"
        }
      },
      "outputs": [
        {
          "data": {
            "text/latex": [
              "$\\frac{i m}{- 2 t + 2 t_{F}} + \\frac{i m}{2 t}$"
            ],
            "text/plain": [
              "    ⅈ⋅m        ⅈ⋅m\n",
              "──────────── + ───\n",
              "-2⋅t + 2⋅t_F   2⋅t"
            ]
          },
          "metadata": {},
          "output_type": "display_data"
        },
        {
          "data": {
            "text/latex": [
              "$- \\frac{i m q_{0}}{t} - \\frac{2 i m q_{F}}{- 2 t + 2 t_{F}}$"
            ],
            "text/plain": [
              "  ⅈ⋅m⋅q₀    2⋅ⅈ⋅m⋅q_F  \n",
              "- ────── - ────────────\n",
              "    t      -2⋅t + 2⋅t_F"
            ]
          },
          "metadata": {},
          "output_type": "display_data"
        },
        {
          "data": {
            "text/latex": [
              "$\\frac{i m q_{0}^{2}}{2 t} + \\frac{i m q_{F}^{2}}{- 2 t + 2 t_{F}}$"
            ],
            "text/plain": [
              "      2            2  \n",
              "ⅈ⋅m⋅q₀      ⅈ⋅m⋅q_F   \n",
              "─────── + ────────────\n",
              "  2⋅t     -2⋅t + 2⋅t_F"
            ]
          },
          "metadata": {},
          "output_type": "display_data"
        }
      ],
      "source": [
        "# Simplifying the product of propagators in eq. 2.25\n",
        "idenFunc = IM*m/(2 * (tf - t)) * (qf - q1)^2 + IM*m/(2*t) * (q1 - q0)^2\n",
        "\n",
        "idenPoly = extractPolynomial(idenFunc, q1)\n",
        "idenPolyA = - idenPoly[2]\n",
        "idenPolyB = - idenPoly[1]\n",
        "idenPolyC = - idenPoly[0]\n",
        "\n",
        "display(-idenPolyA)\n",
        "display(-idenPolyB)\n",
        "display(-idenPolyC)\n",
        "\n",
        "# (idenPolyB^2 / (4 * idenPolyA) - idenPolyC).simplify()"
      ]
    },
    {
      "cell_type": "code",
      "execution_count": 7,
      "metadata": {},
      "outputs": [
        {
          "data": {
            "text/latex": [
              "$\\frac{\\sqrt{2} i \\sqrt{\\pi} \\sqrt{t} \\sqrt{i \\left(t - t_{F}\\right)^{3}} \\left(- q_{0} \\left(t - t_{F}\\right) + q_{F} t\\right)}{\\sqrt{m} t_{F}^{\\frac{3}{2}} \\left(t - t_{F}\\right)}$"
            ],
            "text/plain": [
              "              ______________                        \n",
              "             ╱            3                         \n",
              "√2⋅ⅈ⋅√π⋅√t⋅╲╱  ⅈ⋅(t - t_F)  ⋅(-q₀⋅(t - t_F) + q_F⋅t)\n",
              "────────────────────────────────────────────────────\n",
              "                      3/2                           \n",
              "                √m⋅t_F   ⋅(t - t_F)                 "
            ]
          },
          "metadata": {},
          "output_type": "display_data"
        },
        {
          "data": {
            "text/latex": [
              "$\\frac{\\left(\\frac{i}{t - t_{F}}\\right)^{\\frac{3}{2}} \\sqrt{i \\left(t - t_{F}\\right)^{3}} \\left(- q_{0} \\left(t - t_{F}\\right) + q_{F} t\\right)}{t_{F}}$"
            ],
            "text/plain": [
              "         3/2    ______________                        \n",
              "⎛   ⅈ   ⎞      ╱            3                         \n",
              "⎜───────⎟   ⋅╲╱  ⅈ⋅(t - t_F)  ⋅(-q₀⋅(t - t_F) + q_F⋅t)\n",
              "⎝t - t_F⎠                                             \n",
              "──────────────────────────────────────────────────────\n",
              "                         t_F                          "
            ]
          },
          "metadata": {},
          "output_type": "display_data"
        },
        {
          "data": {
            "text/latex": [
              "$\\frac{\\sqrt{2} \\sqrt{\\pi} \\sqrt{t} \\sqrt{- i \\left(t - t_{F}\\right)^{5}} \\left(- m \\left(q_{0} \\left(t - t_{F}\\right) - q_{F} t\\right)^{2} + i t^{2} \\left(t - t_{F}\\right) - i t \\left(t - t_{F}\\right)^{2}\\right)}{m^{\\frac{3}{2}} t_{F}^{\\frac{5}{2}} \\left(t - t_{F}\\right)^{2}}$"
            ],
            "text/plain": [
              "            _______________                                                   \n",
              "           ╱             5  ⎛                          2      2               \n",
              "√2⋅√π⋅√t⋅╲╱  -ⅈ⋅(t - t_F)  ⋅⎝- m⋅(q₀⋅(t - t_F) - q_F⋅t)  + ⅈ⋅t ⋅(t - t_F) - ⅈ⋅\n",
              "──────────────────────────────────────────────────────────────────────────────\n",
              "                                    3/2    5/2          2                     \n",
              "                                   m   ⋅t_F   ⋅(t - t_F)                      \n",
              "\n",
              "             \n",
              "           2⎞\n",
              "t⋅(t - t_F) ⎠\n",
              "─────────────\n",
              "             \n",
              "             "
            ]
          },
          "metadata": {},
          "output_type": "display_data"
        }
      ],
      "source": [
        "# Degree one Gaussian integral\n",
        "\n",
        "# deg1coef -> The coefficient from the Gaussian integral degree one. \n",
        "deg1coef = - idenPolyB / 2 * sqrt(PI/(idenPolyA^3))\n",
        "display(deg1coef.simplify())\n",
        "\n",
        "# Multiply sqrt(2*PI*IM*t/m) * m/(2*PI)*sqrt(1/(t-tf)) because propagator\n",
        "deg1coef *= sqrt(m*tf / (2 * PI * IM * t * (tf - t)))\n",
        "deg1coef = deg1coef.simplify().powsimp(force = true)\n",
        "display(deg1coef)\n",
        "\n",
        "# Degree two Gaussian integral\n",
        "\n",
        "deg2coef = 1//4 * sqrt(PI/idenPolyA^5) * (2*idenPolyA + idenPolyB^2)\n",
        "deg2coef = deg2coef.simplify()\n",
        "display(deg2coef)\n",
        "\n",
        "# deg2coef *= sqrt(2*PI*IM*t/m) * m/(2*PI)*sqrt(1/(t-tf))\n",
        "# deg2coef = deg2coef.simplify(force = true)"
      ]
    },
    {
      "cell_type": "code",
      "execution_count": 4,
      "metadata": {},
      "outputs": [
        {
          "data": {
            "text/latex": [
              "$q_{0} q_{0}^{\\prime} t_{F}^{3}$"
            ],
            "text/plain": [
              "                      3\n",
              "q₀⋅q_{0}__{\\prime}⋅t_F "
            ]
          },
          "metadata": {},
          "output_type": "display_data"
        },
        {
          "data": {
            "text/latex": [
              "$- 3 q_{0} q_{0}^{\\prime} t_{F}^{2} + q_{0} q_{F}^{\\prime} t_{F}^{2} + q_{F} q_{0}^{\\prime} t_{F}^{2}$"
            ],
            "text/plain": [
              "                          2                         2                         \n",
              "- 3⋅q₀⋅q_{0}__{\\prime}⋅t_F  + q₀⋅q_{F}__{\\prime}⋅t_F  + q_F⋅q_{0}__{\\prime}⋅t_\n",
              "\n",
              " 2\n",
              "F "
            ]
          },
          "metadata": {},
          "output_type": "display_data"
        },
        {
          "data": {
            "text/latex": [
              "$3 q_{0} q_{0}^{\\prime} t_{F} - 2 q_{0} q_{F}^{\\prime} t_{F} - 2 q_{F} q_{0}^{\\prime} t_{F} + q_{F} q_{F}^{\\prime} t_{F}$"
            ],
            "text/plain": [
              "3⋅q₀⋅q_{0}__{\\prime}⋅t_F - 2⋅q₀⋅q_{F}__{\\prime}⋅t_F - 2⋅q_F⋅q_{0}__{\\prime}⋅t_\n",
              "F + q_F⋅q_{F}__{\\prime}⋅t_F"
            ]
          },
          "metadata": {},
          "output_type": "display_data"
        },
        {
          "data": {
            "text/latex": [
              "$- q_{0} q_{0}^{\\prime} + q_{0} q_{F}^{\\prime} + q_{F} q_{0}^{\\prime} - q_{F} q_{F}^{\\prime}$"
            ],
            "text/plain": [
              "-q₀⋅q_{0}__{\\prime} + q₀⋅q_{F}__{\\prime} + q_F⋅q_{0}__{\\prime} - q_F⋅q_{F}__{\\\n",
              "prime}"
            ]
          },
          "metadata": {},
          "output_type": "display_data"
        },
        {
          "data": {
            "text/latex": [
              "$\\frac{t_{F}^{4} \\cdot \\left(3 q_{0} q_{0}^{\\prime} + q_{0} q_{F}^{\\prime} + q_{F} q_{0}^{\\prime} + q_{F} q_{F}^{\\prime}\\right)}{12}$"
            ],
            "text/plain": [
              "   4                                                                          \n",
              "t_F ⋅(3⋅q₀⋅q_{0}__{\\prime} + q₀⋅q_{F}__{\\prime} + q_F⋅q_{0}__{\\prime} + q_F⋅q_\n",
              "──────────────────────────────────────────────────────────────────────────────\n",
              "                                             12                               \n",
              "\n",
              "              \n",
              "{F}__{\\prime})\n",
              "──────────────\n",
              "              "
            ]
          },
          "metadata": {},
          "output_type": "display_data"
        }
      ],
      "source": [
        "# The component of IP3, w.r.t. time.\n",
        "IP3cGr = (tf - t) * (q0′*(tf - t) + qf′*t) * (q0*(tf - t) + qf*t)\n",
        "IP3cGr = IP3cGr.expand()\n",
        "IP3cGrExt = extractPolynomial(IP3cGr, t)\n",
        "display.(IP3cGrExt)\n",
        "\n",
        "IP3cG = integrate(IP3cGr, t)\n",
        "IP3cG.subs(t, tf).simplify()"
      ]
    },
    {
      "cell_type": "code",
      "execution_count": 5,
      "metadata": {},
      "outputs": [
        {
          "data": {
            "text/latex": [
              "$\\frac{2 t_{F}^{\\frac{7}{2}} \\cdot \\left(15 m q_{0}^{2} + 12 m q_{0} q_{F} + 8 m q_{F}^{2} + 6 i t_{F}\\right)}{105}$"
            ],
            "text/plain": [
              "     7/2 ⎛       2                        2          ⎞\n",
              "2⋅t_F   ⋅⎝15⋅m⋅q₀  + 12⋅m⋅q₀⋅q_F + 8⋅m⋅q_F  + 6⋅ⅈ⋅t_F⎠\n",
              "──────────────────────────────────────────────────────\n",
              "                         105                          "
            ]
          },
          "metadata": {},
          "output_type": "display_data"
        }
      ],
      "source": [
        "IP1cGr = sqrt(tf - t) * (m * (q0 * (tf - t) + qf * t)^2 + IM * t * tf * (tf - t))\n",
        "IP1cGr = IP1cGr.expand()\n",
        "\n",
        "IP1cG = integrate(IP1cGr, (t, 0, tf))\n",
        "IP1cG.simplify()"
      ]
    }
  ],
  "metadata": {
    "kernelspec": {
      "display_name": "Julia 1.10.4",
      "language": "julia",
      "name": "julia-1.10"
    },
    "language_info": {
      "file_extension": ".jl",
      "mimetype": "application/julia",
      "name": "julia",
      "version": "1.10.4"
    },
    "nteract": {
      "version": "0.28.0"
    }
  },
  "nbformat": 4,
  "nbformat_minor": 2
}
