{
  "cells": [
    {
      "cell_type": "code",
      "source": [
        "using SymPy\n",
        "using OffsetArrays\n",
        "\n",
        "@syms q0 q1 q2\n",
        "@syms m t\n",
        "q0′, q1′, q2′, qf′ = symbols(\"q_{0}^{\\\\prime}, q_{1}^{\\\\prime}, q_{2}^{\\\\prime}, q_{F}^{\\\\prime}\")\n",
        "qf = symbols(\"q_F\")\n",
        "t0, t1, t2, tf = symbols(\"t_0, t_1, t_2, t_F\")\n",
        "\n",
        "function extractPolynomial(expr, arg)\n",
        "    expr isa Sym ? nothing : expr = sympify(1)\n",
        "    expr = expand(expr)\n",
        "    polyDegree = Int(degree(expr, arg))\n",
        "    extractOneSet = []\n",
        "    for i in 0:polyDegree\n",
        "        temp = expr.coeff(arg, i)\n",
        "        push!(extractOneSet, temp)\n",
        "    end\n",
        "    polyExt = OffsetVector(extractOneSet, 0:polyDegree)\n",
        "    return polyExt\n",
        "end"
      ],
      "outputs": [
        {
          "output_type": "execute_result",
          "execution_count": 2,
          "data": {
            "text/plain": "extractPolynomial (generic function with 1 method)"
          },
          "metadata": {}
        }
      ],
      "execution_count": 2,
      "metadata": {
        "execution": {
          "iopub.status.busy": "2024-06-28T07:02:21.694Z",
          "iopub.execute_input": "2024-06-28T07:02:21.699Z",
          "iopub.status.idle": "2024-06-28T07:02:23.172Z"
        }
      }
    },
    {
      "cell_type": "code",
      "source": [
        "idenPoly = (IM * m)/(2 * (tf - t2)) * (qf - q2)^2 + (IM * m)/(2 * (t2 - t1)) * (q2 - q1)^2 + (IM * m)/(2 * (t1 - t0)) * (q1 - q0)^2\n",
        "\n",
        "idenExtq1 = extractPolynomial(idenPoly, q1)\n",
        "\n",
        "idenAq1 = idenExtq1[2]\n",
        "idenBq1 = idenExtq1[1]\n",
        "idenCq1 = idenExtq1[0]"
      ],
      "outputs": [
        {
          "output_type": "execute_result",
          "execution_count": 24,
          "data": {
            "text/plain": "        2               2              2                                2  \n  ⅈ⋅m⋅q₀          ⅈ⋅m⋅q₂         ⅈ⋅m⋅q₂        2⋅ⅈ⋅m⋅q₂⋅q_F      ⅈ⋅m⋅q_F   \n──────────── + ───────────── + ──────────── - ───────────── + ─────────────\n-2⋅t₀ + 2⋅t₁   -2⋅t₂ + 2⋅t_F   -2⋅t₁ + 2⋅t₂   -2⋅t₂ + 2⋅t_F   -2⋅t₂ + 2⋅t_F",
            "text/latex": "$\\frac{i m q_{0}^{2}}{- 2 t_{0} + 2 t_{1}} + \\frac{i m q_{2}^{2}}{- 2 t_{2} + 2 t_{F}} + \\frac{i m q_{2}^{2}}{- 2 t_{1} + 2 t_{2}} - \\frac{2 i m q_{2} q_{F}}{- 2 t_{2} + 2 t_{F}} + \\frac{i m q_{F}^{2}}{- 2 t_{2} + 2 t_{F}}$"
          },
          "metadata": {}
        }
      ],
      "execution_count": 24,
      "metadata": {
        "execution": {
          "iopub.status.busy": "2024-06-28T07:22:11.358Z",
          "iopub.execute_input": "2024-06-28T07:22:11.360Z",
          "iopub.status.idle": "2024-06-28T07:22:11.421Z"
        }
      }
    }
  ],
  "metadata": {
    "kernelspec": {
      "display_name": "Julia 1.10.4",
      "language": "julia",
      "name": "julia-1.10"
    },
    "language_info": {
      "file_extension": ".jl",
      "name": "julia",
      "mimetype": "application/julia",
      "version": "1.10.4"
    },
    "nteract": {
      "version": "0.28.0"
    }
  },
  "nbformat": 4,
  "nbformat_minor": 2
}