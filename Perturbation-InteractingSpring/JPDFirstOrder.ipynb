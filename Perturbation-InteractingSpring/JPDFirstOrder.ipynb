{
 "cells": [
  {
   "cell_type": "code",
   "execution_count": 2,
   "metadata": {},
   "outputs": [
    {
     "data": {
      "text/plain": [
       "extractPolynomial (generic function with 1 method)"
      ]
     },
     "metadata": {},
     "output_type": "display_data"
    }
   ],
   "source": [
    "using SymPy\n",
    "using OffsetArrays\n",
    "using Latexify\n",
    "\n",
    "q0, q1, qf, q0p, q1p, qfp = symbols(\"q_0, q_1, q_F, q_{0}^{\\\\prime}, q_{1}^{\\\\prime}, q_{F}^{\\\\prime}\", real = true)\n",
    "m, t0, t1, tf, σ, σp = symbols(\"m, t_0, t_1, t_F, σ, σ\\'\", real = true, positive = true)\n",
    "p, pp, s, sp = symbols(\"p, p\\', s, s\\'\", real = true)\n",
    "α = symbols(\"α\", real = true, positive = true)\n",
    "\n",
    "function extractPolynomial(expr, arg)\n",
    "    expr isa Sym ? nothing : expr = sympify(1)\n",
    "    expr = expand(expr)\n",
    "    polyDegree = Int(degree(expr, arg))\n",
    "    extractOneSet = []\n",
    "    for i in 0:polyDegree\n",
    "        temp = expr.coeff(arg, i)\n",
    "        push!(extractOneSet, temp)\n",
    "    end\n",
    "    polyExt = OffsetVector(extractOneSet, 0:polyDegree)\n",
    "    return polyExt\n",
    "end"
   ]
  },
  {
   "cell_type": "code",
   "execution_count": 16,
   "metadata": {},
   "outputs": [
    {
     "data": {
      "text/latex": [
       "$\\frac{2 m^{2} σ^{2}}{\\pi \\left(2 m σ^{2} + i t_{F}\\right)^{2}}$"
      ],
      "text/plain": [
       "         2  2      \n",
       "      2⋅m ⋅σ       \n",
       "───────────────────\n",
       "                  2\n",
       "  ⎛     2        ⎞ \n",
       "π⋅⎝2⋅m⋅σ  + ⅈ⋅t_F⎠ "
      ]
     },
     "metadata": {},
     "output_type": "display_data"
    }
   ],
   "source": [
    "(-m^2/(8*PI^3*tf^2*σ^2) * (PI*tf/(-2*IM*m*σ^2+tf))^2 * (2*σ)^4).factor()"
   ]
  },
  {
   "cell_type": "code",
   "execution_count": 21,
   "metadata": {},
   "outputs": [
    {
     "data": {
      "text/latex": [
       "$\\frac{4 i m p q_{F} σ^{2} - m q_{F}^{2} + 2 m q_{F} s - m s^{2} - 2 i p^{2} t_{F} σ^{2} - 2 p s t_{F}}{4 m σ^{2} + 2 i t_{F}}$"
      ],
      "text/plain": [
       "             2        2                  2        2      2            \n",
       "4⋅ⅈ⋅m⋅p⋅q_F⋅σ  - m⋅q_F  + 2⋅m⋅q_F⋅s - m⋅s  - 2⋅ⅈ⋅p ⋅t_F⋅σ  - 2⋅p⋅s⋅t_F\n",
       "──────────────────────────────────────────────────────────────────────\n",
       "                                2                                     \n",
       "                           4⋅m⋅σ  + 2⋅ⅈ⋅t_F                           "
      ]
     },
     "metadata": {},
     "output_type": "display_data"
    }
   ],
   "source": [
    "idenFunc = IM * p * q0 - (q0 - s)^2/(4*σ^2) + IM * m / (2 * tf) * (qf - q0)^2\n",
    "\n",
    "idenPoly = extractPolynomial(idenFunc, q0)\n",
    "idenPolyA = - idenPoly[2]\n",
    "idenPolyB = - idenPoly[1]\n",
    "idenPolyC = - idenPoly[0]\n",
    "\n",
    "idenExp = (idenPolyB^2 / (4 * idenPolyA) - idenPolyC).cancel()"
   ]
  },
  {
   "cell_type": "code",
   "execution_count": 38,
   "metadata": {},
   "outputs": [
    {
     "data": {
      "text/latex": [
       "$\\frac{4 m^{4} σ^{4}}{\\pi^{2} \\left(2 m σ^{2} - i t_{F}\\right)^{2} \\left(2 m σ^{2} + i t_{F}\\right)^{2}}$"
      ],
      "text/plain": [
       "                  4  4                \n",
       "               4⋅m ⋅σ                 \n",
       "──────────────────────────────────────\n",
       "                   2                 2\n",
       " 2 ⎛     2        ⎞  ⎛     2        ⎞ \n",
       "π ⋅⎝2⋅m⋅σ  - ⅈ⋅t_F⎠ ⋅⎝2⋅m⋅σ  + ⅈ⋅t_F⎠ "
      ]
     },
     "metadata": {},
     "output_type": "display_data"
    }
   ],
   "source": [
    "expr = 2*m^2*σ^2 / (PI*(2*m*σ^2+IM*tf)^2)\n",
    "expr * expr.subs(IM, -IM)"
   ]
  },
  {
   "cell_type": "code",
   "execution_count": 32,
   "metadata": {},
   "outputs": [
    {
     "data": {
      "text/latex": [
       "$\\frac{2 \\sqrt{\\pi} \\sqrt{t_{F}} σ}{\\sqrt{- 2 i m σ^{2} + t_{F}}}$"
      ],
      "text/plain": [
       "           _____     \n",
       "    2⋅√π⋅╲╱ t_F ⋅σ   \n",
       "─────────────────────\n",
       "   __________________\n",
       "  ╱          2       \n",
       "╲╱  - 2⋅ⅈ⋅m⋅σ  + t_F "
      ]
     },
     "metadata": {},
     "output_type": "display_data"
    },
    {
     "data": {
      "text/latex": [
       "$2 \\sqrt{\\pi} \\sqrt{t_{F}} σ \\sqrt{- \\frac{1}{\\left(2 i m σ^{2} - t_{F}\\right)^{3}}} \\left(- 2 i m q_{F} σ^{2} + 2 i p t_{F} σ^{2} + s t_{F}\\right)$"
      ],
      "text/plain": [
       "                     ___________________                                      \n",
       "       _____        ╱        -1          ⎛             2              2       \n",
       "2⋅√π⋅╲╱ t_F ⋅σ⋅    ╱  ───────────────── ⋅⎝- 2⋅ⅈ⋅m⋅q_F⋅σ  + 2⋅ⅈ⋅p⋅t_F⋅σ  + s⋅t_\n",
       "                  ╱                   3                                       \n",
       "                 ╱    ⎛       2      ⎞                                        \n",
       "               ╲╱     ⎝2⋅ⅈ⋅m⋅σ  - t_F⎠                                        \n",
       "\n",
       "  \n",
       " ⎞\n",
       "F⎠\n",
       "  \n",
       "  \n",
       "  "
      ]
     },
     "metadata": {},
     "output_type": "display_data"
    },
    {
     "data": {
      "text/latex": [
       "$2 \\sqrt{\\pi} \\sqrt{t_{F}} σ \\sqrt{- \\frac{1}{\\left(2 i m σ^{2} - t_{F}\\right)^{5}}} \\left(- 4 i m t_{F} σ^{4} + 2 t_{F}^{2} σ^{2} + \\left(- 2 i m q_{F} σ^{2} + 2 i p t_{F} σ^{2} + s t_{F}\\right)^{2}\\right)$"
      ],
      "text/plain": [
       "                     ___________________ ⎛                                    \n",
       "       _____        ╱        -1          ⎜             4        2  2   ⎛      \n",
       "2⋅√π⋅╲╱ t_F ⋅σ⋅    ╱  ───────────────── ⋅⎝- 4⋅ⅈ⋅m⋅t_F⋅σ  + 2⋅t_F ⋅σ  + ⎝- 2⋅ⅈ⋅\n",
       "                  ╱                   5                                       \n",
       "                 ╱    ⎛       2      ⎞                                        \n",
       "               ╲╱     ⎝2⋅ⅈ⋅m⋅σ  - t_F⎠                                        \n",
       "\n",
       "                                2⎞\n",
       "       2              2        ⎞ ⎟\n",
       "m⋅q_F⋅σ  + 2⋅ⅈ⋅p⋅t_F⋅σ  + s⋅t_F⎠ ⎠\n",
       "                                  \n",
       "                                  \n",
       "                                  "
      ]
     },
     "metadata": {},
     "output_type": "display_data"
    },
    {
     "data": {
      "text/latex": [
       "$- 4 i m t_{F} σ^{4} + 2 t_{F}^{2} σ^{2} + \\left(- 2 i m q_{F} σ^{2} + 2 i p t_{F} σ^{2} + s t_{F}\\right)^{2}$"
      ],
      "text/plain": [
       "                                                                    2\n",
       "             4        2  2   ⎛             2              2        ⎞ \n",
       "- 4⋅ⅈ⋅m⋅t_F⋅σ  + 2⋅t_F ⋅σ  + ⎝- 2⋅ⅈ⋅m⋅q_F⋅σ  + 2⋅ⅈ⋅p⋅t_F⋅σ  + s⋅t_F⎠ "
      ]
     },
     "metadata": {},
     "output_type": "display_data"
    }
   ],
   "source": [
    "# Degree zero Gaussian integral\n",
    "deg0coef = sqrt(PI / idenPolyA)\n",
    "deg0coef = deg0coef.simplify()\n",
    "display(deg0coef)\n",
    "\n",
    "# Degree one Gaussian integral\n",
    "# deg1coef -> The coefficient from the Gaussian integral degree one. \n",
    "deg1coef = - idenPolyB / 2 * sqrt(PI/(idenPolyA^3))\n",
    "deg1coef = deg1coef.simplify()\n",
    "display(deg1coef)\n",
    "\n",
    "# Degree two Gaussian integral\n",
    "\n",
    "deg2coef = 1//4 * sqrt(PI/idenPolyA^5) * (2*idenPolyA + idenPolyB^2)\n",
    "deg2coef = deg2coef.simplify()\n",
    "display(deg2coef)\n",
    "\n",
    "deg2coef.args[6]"
   ]
  }
 ],
 "metadata": {
  "kernelspec": {
   "display_name": "Julia 1.10.4",
   "language": "julia",
   "name": "julia-1.10"
  },
  "language_info": {
   "file_extension": ".jl",
   "mimetype": "application/julia",
   "name": "julia",
   "version": "1.10.4"
  }
 },
 "nbformat": 4,
 "nbformat_minor": 2
}
