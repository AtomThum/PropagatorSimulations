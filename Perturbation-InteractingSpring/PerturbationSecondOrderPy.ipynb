{
 "cells": [
  {
   "cell_type": "code",
   "execution_count": 1,
   "metadata": {},
   "outputs": [],
   "source": [
    "from sympy import *\n",
    "import numpy as np\n",
    "import copy as cp\n",
    "\n",
    "q, q0, q1, q2, qf = symbols(\"q q_0 q_1 q_2 q_F\", real = True)\n",
    "m, t, t0, t1, t2, tf = symbols(\"m t t_0 t_1 t_2 t_F\", real = True, positive = True)\n",
    "q0p, q1p, q2p, qfp = symbols(\"q^{\\\\prime}_0 q^{\\\\prime}_1 q^{\\\\prime}_2 q^{\\\\prime}_F\", real = True)\n",
    "a, b, c, d, e, f = symbols(\"a b c d e f\")\n",
    "\n",
    "# zt1, zt2 = symbols(\"z_{t1} z_{t2}\", real = True, positive = True)\n",
    "# t1 = t0 + zt1\n",
    "# t2 = t1 + zt2\n",
    "\n",
    "def extractPolynomial(expr, arg):\n",
    "    if type(expr) == Symbol:\n",
    "        pass\n",
    "    else:\n",
    "        expr = sympify(expr)\n",
    "\n",
    "    expr = expr.expand()\n",
    "    polyDegree = int(degree(expr, arg))\n",
    "    extractOneSet = []\n",
    "    for i in range(0, polyDegree + 1, 1):\n",
    "        temp = expr.coeff(arg, i)\n",
    "        extractOneSet.append(temp)\n",
    "\n",
    "    return extractOneSet\n"
   ]
  },
  {
   "cell_type": "code",
   "execution_count": 2,
   "metadata": {},
   "outputs": [
    {
     "data": {
      "text/latex": [
       "$\\displaystyle \\left(q^{\\prime}_1\\right)^{2} \\left(q^{\\prime}_2\\right)^{2} - 2 \\left(q^{\\prime}_1\\right)^{2} q^{\\prime}_2 q_{2} + \\left(q^{\\prime}_1\\right)^{2} q_{2}^{2} - 2 q^{\\prime}_1 \\left(q^{\\prime}_2\\right)^{2} q_{1} + 4 q^{\\prime}_1 q^{\\prime}_2 q_{1} q_{2} - 2 q^{\\prime}_1 q_{1} q_{2}^{2} + \\left(q^{\\prime}_2\\right)^{2} q_{1}^{2} - 2 q^{\\prime}_2 q_{1}^{2} q_{2} + q_{1}^{2} q_{2}^{2}$"
      ],
      "text/plain": [
       "q^{\\prime}_1**2*q^{\\prime}_2**2 - 2*q^{\\prime}_1**2*q^{\\prime}_2*q_2 + q^{\\prime}_1**2*q_2**2 - 2*q^{\\prime}_1*q^{\\prime}_2**2*q_1 + 4*q^{\\prime}_1*q^{\\prime}_2*q_1*q_2 - 2*q^{\\prime}_1*q_1*q_2**2 + q^{\\prime}_2**2*q_1**2 - 2*q^{\\prime}_2*q_1**2*q_2 + q_1**2*q_2**2"
      ]
     },
     "execution_count": 2,
     "metadata": {},
     "output_type": "execute_result"
    }
   ],
   "source": [
    "potential = (q1 - q1p)**2 * (q2 - q2p)**2\n",
    "potential.expand()"
   ]
  },
  {
   "cell_type": "code",
   "execution_count": 3,
   "metadata": {},
   "outputs": [],
   "source": [
    "idenPoly = (I * m)/(2 * (tf - t2)) * (qf - q2)**2 + (I * m)/(2 * (t2 - t1)) * (q2 - q1)**2 + (I * m)/(2 * (t1 - t0)) * (q1 - q0)**2\n",
    "\n",
    "idenExtq1 = extractPolynomial(idenPoly, q1)\n"
   ]
  },
  {
   "cell_type": "code",
   "execution_count": 4,
   "metadata": {},
   "outputs": [
    {
     "data": {
      "text/latex": [
       "$\\displaystyle \\frac{i m \\left(q_{0} - q_{2}\\right)^{2}}{2 t_{2}}$"
      ],
      "text/plain": [
       "I*m*(q_0 - q_2)**2/(2*t_2)"
      ]
     },
     "metadata": {},
     "output_type": "display_data"
    },
    {
     "data": {
      "text/latex": [
       "$\\displaystyle \\frac{\\sqrt{2} \\sqrt{\\pi} \\sqrt{t_{1}} \\sqrt{- i \\left(t_{1} - t_{2}\\right)^{5}} \\left(- m \\left(q_{0} \\left(t_{1} - t_{2}\\right) - q_{2} t_{1}\\right)^{2} + i t_{1}^{2} \\left(t_{1} - t_{2}\\right) - i t_{1} \\left(t_{1} - t_{2}\\right)^{2}\\right)}{m^{\\frac{3}{2}} t_{2}^{\\frac{5}{2}} \\left(t_{1} - t_{2}\\right)^{2}}$"
      ],
      "text/plain": [
       "sqrt(2)*sqrt(pi)*sqrt(t_1)*sqrt(-I*(t_1 - t_2)**5)*(-m*(q_0*(t_1 - t_2) - q_2*t_1)**2 + I*t_1**2*(t_1 - t_2) - I*t_1*(t_1 - t_2)**2)/(m**(3/2)*t_2**(5/2)*(t_1 - t_2)**2)"
      ]
     },
     "metadata": {},
     "output_type": "display_data"
    }
   ],
   "source": [
    "### Integration #1: Ip1\n",
    "\n",
    "# Part 1: dq₁\n",
    "Ip1expr1 = I * m / (2 * (t2 - t1)) * (q2 - q1)**2 + I * m / (2 * (t1)) * (q1 - q0)**2\n",
    "\n",
    "Ip1expr1ext = extractPolynomial(Ip1expr1, q1)\n",
    "Ip1expr1A = - Ip1expr1ext[2]\n",
    "Ip1expr1B = - Ip1expr1ext[1]\n",
    "Ip1expr1C = - Ip1expr1ext[0]\n",
    "\n",
    "# Exponential argument\n",
    "Ip1expArg = (b**2 / (4 * a) - c)\n",
    "Ip1expArg = Ip1expArg.subs([(a, Ip1expr1A), (b, Ip1expr1B), (c, Ip1expr1C)])\n",
    "display(Ip1expArg.factor())\n",
    "\n",
    "Ip1coefArg = Rational(1, 4) * sqrt(pi / a**5) * (2 * a + b**2)\n",
    "Ip1coefArg = Ip1coefArg.subs([(a, Ip1expr1A), (b, Ip1expr1B), (c, Ip1expr1C)])\n",
    "display(Ip1coefArg.simplify())"
   ]
  },
  {
   "cell_type": "code",
   "execution_count": 5,
   "metadata": {},
   "outputs": [
    {
     "data": {
      "text/latex": [
       "$\\displaystyle \\frac{i m \\left(q_{0} - q_{2}\\right)^{2}}{2 t_{2}}$"
      ],
      "text/plain": [
       "I*m*(q_0 - q_2)**2/(2*t_2)"
      ]
     },
     "metadata": {},
     "output_type": "display_data"
    },
    {
     "data": {
      "text/latex": [
       "$\\displaystyle \\frac{\\sqrt{2} \\sqrt{\\pi} \\sqrt{t_{1}} \\sqrt{- i \\left(t_{1} - t_{2}\\right)^{5}} \\left(- m \\left(q_{0} \\left(t_{1} - t_{2}\\right) - q_{2} t_{1}\\right)^{2} + i t_{1}^{2} \\left(t_{1} - t_{2}\\right) - i t_{1} \\left(t_{1} - t_{2}\\right)^{2}\\right)}{m^{\\frac{3}{2}} t_{2}^{\\frac{5}{2}} \\left(t_{1} - t_{2}\\right)^{2}}$"
      ],
      "text/plain": [
       "sqrt(2)*sqrt(pi)*sqrt(t_1)*sqrt(-I*(t_1 - t_2)**5)*(-m*(q_0*(t_1 - t_2) - q_2*t_1)**2 + I*t_1**2*(t_1 - t_2) - I*t_1*(t_1 - t_2)**2)/(m**(3/2)*t_2**(5/2)*(t_1 - t_2)**2)"
      ]
     },
     "metadata": {},
     "output_type": "display_data"
    }
   ],
   "source": [
    "# Part 2: dq₂\n",
    "\n",
    "Ip1expr2 = Ip1expArg.factor() + I * m / (2 * (tf - t2)) * (qf - q2)**2\n",
    "\n",
    "Ip1expr2ext = extractPolynomial(Ip1expr2, q2)\n",
    "Ip1expr2A = - Ip1expr1ext[2]\n",
    "Ip1expr2B = - Ip1expr1ext[1]\n",
    "Ip1expr2C = - Ip1expr1ext[0]\n",
    "\n",
    "# Exponential argument\n",
    "Ip1expArg2 = (b**2 / (4 * a) - c)\n",
    "Ip1expArg2 = Ip1expArg2.subs([(a, Ip1expr2A), (b, Ip1expr2B), (c, Ip1expr2C)])\n",
    "display(Ip1expArg2.factor())\n",
    "\n",
    "Ip1coefArg2 = Rational(1, 4) * sqrt(pi / a**5) * (2 * a + b**2)\n",
    "Ip1coefArg2 = Ip1coefArg.subs([(a, Ip1expr2A), (b, Ip1expr2B), (c, Ip1expr2C)])\n",
    "display(Ip1coefArg.simplify())"
   ]
  }
 ],
 "metadata": {
  "kernelspec": {
   "display_name": "Python 3",
   "language": "python",
   "name": "python3"
  },
  "language_info": {
   "codemirror_mode": {
    "name": "ipython",
    "version": 3
   },
   "file_extension": ".py",
   "mimetype": "text/x-python",
   "name": "python",
   "nbconvert_exporter": "python",
   "pygments_lexer": "ipython3",
   "version": "3.12.3"
  }
 },
 "nbformat": 4,
 "nbformat_minor": 2
}
