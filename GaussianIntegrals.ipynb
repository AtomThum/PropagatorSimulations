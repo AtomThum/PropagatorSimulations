{
 "cells": [
  {
   "cell_type": "code",
   "execution_count": 1,
   "metadata": {},
   "outputs": [
    {
     "data": {
      "text/latex": [
       "$\\frac{1}{a^{\\frac{3}{2}}}$"
      ],
      "text/plain": [
       " 1  \n",
       "────\n",
       " 3/2\n",
       "a   "
      ]
     },
     "metadata": {},
     "output_type": "display_data"
    },
    {
     "data": {
      "text/latex": [
       "$- \\frac{\\sqrt{\\pi} b e^{- c} e^{\\frac{b^{2}}{4 a}}}{2 a^{\\frac{3}{2}}}$"
      ],
      "text/plain": [
       "             2 \n",
       "            b  \n",
       "           ─── \n",
       "       -c  4⋅a \n",
       "-√π⋅b⋅ℯ  ⋅ℯ    \n",
       "───────────────\n",
       "        3/2    \n",
       "     2⋅a       "
      ]
     },
     "metadata": {},
     "output_type": "display_data"
    },
    {
     "data": {
      "text/latex": [
       "$\\frac{1}{a^{\\frac{5}{2}}}$"
      ],
      "text/plain": [
       " 1  \n",
       "────\n",
       " 5/2\n",
       "a   "
      ]
     },
     "metadata": {},
     "output_type": "display_data"
    },
    {
     "data": {
      "text/latex": [
       "$\\frac{\\sqrt{\\pi} \\left(2 a + b^{2}\\right) e^{- c} e^{\\frac{b^{2}}{4 a}}}{4 a^{\\frac{5}{2}}}$"
      ],
      "text/plain": [
       "                     2\n",
       "                    b \n",
       "                   ───\n",
       "   ⎛       2⎞  -c  4⋅a\n",
       "√π⋅⎝2⋅a + b ⎠⋅ℯ  ⋅ℯ   \n",
       "──────────────────────\n",
       "           5/2        \n",
       "        4⋅a           "
      ]
     },
     "metadata": {},
     "output_type": "display_data"
    },
    {
     "data": {
      "text/latex": [
       "$\\frac{1}{a^{\\frac{7}{2}}}$"
      ],
      "text/plain": [
       " 1  \n",
       "────\n",
       " 7/2\n",
       "a   "
      ]
     },
     "metadata": {},
     "output_type": "display_data"
    },
    {
     "data": {
      "text/latex": [
       "$- \\frac{\\sqrt{\\pi} b \\left(6 a + b^{2}\\right) e^{- c} e^{\\frac{b^{2}}{4 a}}}{8 a^{\\frac{7}{2}}}$"
      ],
      "text/plain": [
       "                        2 \n",
       "                       b  \n",
       "                      ─── \n",
       "      ⎛       2⎞  -c  4⋅a \n",
       "-√π⋅b⋅⎝6⋅a + b ⎠⋅ℯ  ⋅ℯ    \n",
       "──────────────────────────\n",
       "             7/2          \n",
       "          8⋅a             "
      ]
     },
     "metadata": {},
     "output_type": "display_data"
    },
    {
     "data": {
      "text/latex": [
       "$\\frac{1}{a^{\\frac{9}{2}}}$"
      ],
      "text/plain": [
       " 1  \n",
       "────\n",
       " 9/2\n",
       "a   "
      ]
     },
     "metadata": {},
     "output_type": "display_data"
    },
    {
     "data": {
      "text/latex": [
       "$\\frac{\\sqrt{\\pi} \\left(12 a^{2} + 12 a b^{2} + b^{4}\\right) e^{- c} e^{\\frac{b^{2}}{4 a}}}{16 a^{\\frac{9}{2}}}$"
      ],
      "text/plain": [
       "                                 2\n",
       "                                b \n",
       "                               ───\n",
       "   ⎛    2         2    4⎞  -c  4⋅a\n",
       "√π⋅⎝12⋅a  + 12⋅a⋅b  + b ⎠⋅ℯ  ⋅ℯ   \n",
       "──────────────────────────────────\n",
       "                 9/2              \n",
       "             16⋅a                 "
      ]
     },
     "metadata": {},
     "output_type": "display_data"
    },
    {
     "data": {
      "text/latex": [
       "$\\frac{1}{a^{\\frac{11}{2}}}$"
      ],
      "text/plain": [
       "  1  \n",
       "─────\n",
       " 11/2\n",
       "a    "
      ]
     },
     "metadata": {},
     "output_type": "display_data"
    },
    {
     "data": {
      "text/latex": [
       "$- \\frac{\\sqrt{\\pi} b \\left(60 a^{2} + 20 a b^{2} + b^{4}\\right) e^{- c} e^{\\frac{b^{2}}{4 a}}}{32 a^{\\frac{11}{2}}}$"
      ],
      "text/plain": [
       "                                    2 \n",
       "                                   b  \n",
       "                                  ─── \n",
       "      ⎛    2         2    4⎞  -c  4⋅a \n",
       "-√π⋅b⋅⎝60⋅a  + 20⋅a⋅b  + b ⎠⋅ℯ  ⋅ℯ    \n",
       "──────────────────────────────────────\n",
       "                   11/2               \n",
       "               32⋅a                   "
      ]
     },
     "metadata": {},
     "output_type": "display_data"
    }
   ],
   "source": [
    "using SymPy\n",
    "using SpecialFunctions\n",
    "using Latexify\n",
    "\n",
    "@syms x, y, z\n",
    "@syms a::(real, positive), b::(real, positive), c::(real, positive), n::(real, positive)\n",
    "expr = x^n * exp(- a*x^2 - b*x - c)\n",
    "\n",
    "# The actual Gaussian integral evaluation (From SymPy)\n",
    "\n",
    "for i in 1:5\n",
    "    currentExpr = expr.subs(n, i)\n",
    "    currentExprInt = factor(integrate(currentExpr, (x, -oo, oo))).subs(erf(b/(2*sqrt(a))) + erfc(b/(2*sqrt(a))), 1)\n",
    "    if i % 2 == 0\n",
    "        display(currentExprInt.args[3])\n",
    "    else\n",
    "        display(currentExprInt.args[4])\n",
    "    end\n",
    "    display(currentExprInt)\n",
    "end"
   ]
  },
  {
   "cell_type": "code",
   "execution_count": 25,
   "metadata": {},
   "outputs": [
    {
     "data": {
      "text/latex": [
       "$\\begin{cases} - 2 \\sqrt{\\pi} σ e^{- p \\left(p σ^{2} - i s\\right)} & \\text{for}\\: \\left(\\left|{\\arg{\\left(σ \\right)}}\\right| \\leq \\frac{\\pi}{4} \\wedge \\left|{2 \\arg{\\left(p \\right)} + 2 \\arg{\\left(2 - \\frac{s e^{\\frac{i \\pi}{2}}}{p σ^{2}} \\right)} - \\pi}\\right| < \\pi \\wedge \\left|{2 \\arg{\\left(p \\right)} + 2 \\arg{\\left(2 - \\frac{s e^{\\frac{i \\pi}{2}}}{p σ^{2}} \\right)} + \\pi}\\right| < \\pi\\right) \\vee \\left|{\\arg{\\left(σ \\right)}}\\right| < \\frac{\\pi}{4} \\\\\\int_{\\infty}^{-\\infty} e^{i p q - \\frac{\\left(q - s\\right)^{2}}{4 σ^{2}}}\\, dq & \\text{otherwise} \\end{cases}$"
      ],
      "text/plain": [
       "⎧                              ⎛               │                ⎛       ⅈ⋅π⎞  \n",
       "⎪                              ⎜               │                ⎜       ───⎟  \n",
       "⎪            ⎛   2      ⎞      ⎜               │                ⎜        2 ⎟  \n",
       "⎪         -p⋅⎝p⋅σ  - ⅈ⋅s⎠      ⎜           π   │                ⎜    s⋅ℯ   ⎟  \n",
       "⎪-2⋅√π⋅σ⋅ℯ                 for ⎜│arg(σ)│ ≤ ─ ∧ │2⋅arg(p) + 2⋅arg⎜2 - ──────⎟ -\n",
       "⎪                              ⎜           4   │                ⎜        2 ⎟  \n",
       "⎪                              ⎝               │                ⎝     p⋅σ  ⎠  \n",
       "⎪                                                                             \n",
       "⎪-∞                                                                           \n",
       "⎨⌠                                                                            \n",
       "⎪⎮                  2                                                         \n",
       "⎪⎮           (q - s)                                                          \n",
       "⎪⎮   ⅈ⋅p⋅q - ────────                                                         \n",
       "⎪⎮                2                                                           \n",
       "⎪⎮             4⋅σ                                                            \n",
       "⎪⎮  ℯ                 dq                                                      \n",
       "⎪⌡                                                                            \n",
       "⎪∞                                                                            \n",
       "⎩                                                                             \n",
       "\n",
       "  │       │                ⎛       ⅈ⋅π⎞    │    ⎞               \n",
       "  │       │                ⎜       ───⎟    │    ⎟               \n",
       "  │       │                ⎜        2 ⎟    │    ⎟               \n",
       "  │       │                ⎜    s⋅ℯ   ⎟    │    ⎟              π\n",
       " π│ < π ∧ │2⋅arg(p) + 2⋅arg⎜2 - ──────⎟ + π│ < π⎟ ∨ │arg(σ)│ < ─\n",
       "  │       │                ⎜        2 ⎟    │    ⎟              4\n",
       "  │       │                ⎝     p⋅σ  ⎠    │    ⎠               \n",
       "                                                                \n",
       "                                                                \n",
       "                                                                \n",
       "                                                                \n",
       "                                                                \n",
       "                                                                \n",
       "                                                                \n",
       "                                                                \n",
       "  otherwise                                                     \n",
       "                                                                \n",
       "                                                                \n",
       "                                                                "
      ]
     },
     "metadata": {},
     "output_type": "display_data"
    }
   ],
   "source": [
    "@syms p q σ s\n",
    "\n",
    "expr = exp(IM*p*q - (q-s)^2/(4*σ^2)) #* (1/(2*PI*σ^2))^(1//4)\n",
    "intexpr = integrate(expr, (q, oo, -oo)).simplify()"
   ]
  },
  {
   "cell_type": "code",
   "execution_count": 28,
   "metadata": {},
   "outputs": [
    {
     "data": {
      "text/latex": [
       "$4 \\pi σ^{2} e^{- 2 p^{2} σ^{2}}$"
      ],
      "text/plain": [
       "            2  2\n",
       "     2  -2⋅p ⋅σ \n",
       "4⋅π⋅σ ⋅ℯ        "
      ]
     },
     "metadata": {},
     "output_type": "display_data"
    }
   ],
   "source": [
    "intexprx = intexpr.args[1].args[1]\n",
    "(intexprx * intexprx.subs(IM, -IM)).powsimp()"
   ]
  }
 ],
 "metadata": {
  "kernelspec": {
   "display_name": "Julia 1.10.4",
   "language": "julia",
   "name": "julia-1.10"
  },
  "language_info": {
   "file_extension": ".jl",
   "mimetype": "application/julia",
   "name": "julia",
   "version": "1.10.4"
  }
 },
 "nbformat": 4,
 "nbformat_minor": 2
}
