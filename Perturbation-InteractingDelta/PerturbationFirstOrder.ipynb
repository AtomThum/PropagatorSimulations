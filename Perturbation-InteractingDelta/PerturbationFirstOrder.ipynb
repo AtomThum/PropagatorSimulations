{
 "cells": [
  {
   "cell_type": "code",
   "execution_count": 2,
   "metadata": {},
   "outputs": [],
   "source": [
    "from sympy import *\n",
    "import numpy as np\n",
    "import copy as cp\n",
    "\n",
    "q, q0, q1, q2, qf = symbols(\"q q_0 q_1 q_2 q_F\", real = True)\n",
    "m, t, t0, t1, t2, tf = symbols(\"m t t_0 t_1 t_2 t_F\", real = True, positive = True)\n",
    "q0p, q1p, q2p, qfp = symbols(\"q^{\\\\prime}_0 q^{\\\\prime}_1 q^{\\\\prime}_2 q^{\\\\prime}_F\", real = True)\n",
    "a, b, c, d, e, f = symbols(\"a b c d e f\")\n",
    "\n",
    "def extractPolynomial(expr, arg):\n",
    "    if type(expr) == Symbol:\n",
    "        pass\n",
    "    else:\n",
    "        expr = sympify(expr)\n",
    "\n",
    "    expr = expr.expand()\n",
    "    polyDegree = int(degree(expr, arg))\n",
    "    extractOneSet = []\n",
    "    for i in range(0, polyDegree + 1, 1):\n",
    "        temp = expr.coeff(arg, i)\n",
    "        extractOneSet.append(temp)\n",
    "\n",
    "    return extractOneSet\n",
    "\n",
    "\n",
    "def freePropagator(finPos, startPos, finTime, startTime = 0, sel = 0):\n",
    "    if sel == 2:\n",
    "        prop = I * m / (2 * (finTime - startTime)) * (finPos - startPos)**2\n",
    "    elif sel == 1:\n",
    "        prop = sqrt(m / (2 * pi * I * (finTime - startTime)))\n",
    "    else:\n",
    "        prop = sqrt(m / (2 * pi * I * (finTime - startTime))) * exp(I * m / (2 * (finTime - startTime)) * (finPos - startPos)**2)\n",
    "    return prop    \n"
   ]
  },
  {
   "cell_type": "code",
   "execution_count": 4,
   "metadata": {},
   "outputs": [
    {
     "data": {
      "text/latex": [
       "$\\displaystyle \\frac{i m \\left(- 2 t t_{F} \\left(\\left(q^{\\prime}_F\\right)^{2} + q_{F}^{2}\\right) + 2 t_{F} \\left(\\left(q^{\\prime}_0\\right)^{2} + q_{0}^{2}\\right) \\left(t - t_{F}\\right) + \\left(t \\left(q^{\\prime}_F + q_{F}\\right) - \\left(q^{\\prime}_0 + q_{0}\\right) \\left(t - t_{F}\\right)\\right)^{2}\\right)}{4 t t_{F} \\left(t - t_{F}\\right)}$"
      ],
      "text/plain": [
       "I*m*(-2*t*t_F*(q^{\\prime}_F**2 + q_F**2) + 2*t_F*(q^{\\prime}_0**2 + q_0**2)*(t - t_F) + (t*(q^{\\prime}_F + q_F) - (q^{\\prime}_0 + q_0)*(t - t_F))**2)/(4*t*t_F*(t - t_F))"
      ]
     },
     "metadata": {},
     "output_type": "display_data"
    },
    {
     "data": {
      "text/latex": [
       "$\\displaystyle \\frac{\\sqrt{\\pi} \\sqrt{t}}{\\sqrt{m} \\sqrt{t_{F}} \\sqrt{\\frac{i}{t - t_{F}}}}$"
      ],
      "text/plain": [
       "sqrt(pi)*sqrt(t)/(sqrt(m)*sqrt(t_F)*sqrt(I/(t - t_F)))"
      ]
     },
     "metadata": {},
     "output_type": "display_data"
    }
   ],
   "source": [
    "I1prop = freePropagator(qf, q1p, tf, t, sel = 2) + freePropagator(qfp, q1p, tf, t, sel = 2) + freePropagator(q1p, q0, t, sel = 2) + freePropagator(q1p, q0p, t, sel = 2)\n",
    "I1coef = freePropagator(qf, q1p, tf, t, sel = 1) + freePropagator(qfp, q1p, tf, t, sel = 1) + freePropagator(q1p, q0, t, sel = 1) + freePropagator(q1p, q0p, t, sel = 1)\n",
    "\n",
    "I1propExt = extractPolynomial(I1prop, q1p)\n",
    "I1polyA = - I1propExt[2]\n",
    "I1polyB = - I1propExt[1]\n",
    "I1polyC = - I1propExt[0]\n",
    "\n",
    "I1intExp = b**2/(4 * a) - c\n",
    "I1intExp = I1intExp.subs([(a, I1polyA), (b, I1polyB), (c, I1polyC)]).simplify()\n",
    "display(I1intExp)\n",
    "\n",
    "I1intCoef = sqrt(pi / a)\n",
    "I1intCoef = I1intCoef.subs([(a, I1polyA), (b, I1polyB), (c, I1polyC)])\n",
    "display(I1intCoef.simplify())"
   ]
  },
  {
   "cell_type": "code",
   "execution_count": 54,
   "metadata": {},
   "outputs": [
    {
     "data": {
      "text/latex": [
       "$\\displaystyle - \\frac{i m \\left(q^{\\prime}_0\\right)^{2} t_{F}^{2}}{4 t^{2} t_{F} - 4 t t_{F}^{2}} + \\frac{2 i m q^{\\prime}_0 q_{0} t_{F}^{2}}{4 t^{2} t_{F} - 4 t t_{F}^{2}} - \\frac{i m q_{0}^{2} t_{F}^{2}}{4 t^{2} t_{F} - 4 t t_{F}^{2}} + t^{2} \\left(\\frac{i m \\left(q^{\\prime}_0\\right)^{2}}{4 t^{2} t_{F} - 4 t t_{F}^{2}} - \\frac{2 i m q^{\\prime}_0 q^{\\prime}_F}{4 t^{2} t_{F} - 4 t t_{F}^{2}} + \\frac{2 i m q^{\\prime}_0 q_{0}}{4 t^{2} t_{F} - 4 t t_{F}^{2}} - \\frac{2 i m q^{\\prime}_0 q_{F}}{4 t^{2} t_{F} - 4 t t_{F}^{2}} + \\frac{i m \\left(q^{\\prime}_F\\right)^{2}}{4 t^{2} t_{F} - 4 t t_{F}^{2}} - \\frac{2 i m q^{\\prime}_F q_{0}}{4 t^{2} t_{F} - 4 t t_{F}^{2}} + \\frac{2 i m q^{\\prime}_F q_{F}}{4 t^{2} t_{F} - 4 t t_{F}^{2}} + \\frac{i m q_{0}^{2}}{4 t^{2} t_{F} - 4 t t_{F}^{2}} - \\frac{2 i m q_{0} q_{F}}{4 t^{2} t_{F} - 4 t t_{F}^{2}} + \\frac{i m q_{F}^{2}}{4 t^{2} t_{F} - 4 t t_{F}^{2}}\\right) + t \\left(\\frac{2 i m q^{\\prime}_0 q^{\\prime}_F t_{F}}{4 t^{2} t_{F} - 4 t t_{F}^{2}} - \\frac{4 i m q^{\\prime}_0 q_{0} t_{F}}{4 t^{2} t_{F} - 4 t t_{F}^{2}} + \\frac{2 i m q^{\\prime}_0 q_{F} t_{F}}{4 t^{2} t_{F} - 4 t t_{F}^{2}} - \\frac{2 i m \\left(q^{\\prime}_F\\right)^{2} t_{F}}{4 t^{2} t_{F} - 4 t t_{F}^{2}} + \\frac{2 i m q^{\\prime}_F q_{0} t_{F}}{4 t^{2} t_{F} - 4 t t_{F}^{2}} + \\frac{2 i m q_{0} q_{F} t_{F}}{4 t^{2} t_{F} - 4 t t_{F}^{2}} - \\frac{2 i m q_{F}^{2} t_{F}}{4 t^{2} t_{F} - 4 t t_{F}^{2}}\\right)$"
      ],
      "text/plain": [
       "-I*m*q^{\\prime}_0**2*t_F**2/(4*t**2*t_F - 4*t*t_F**2) + 2*I*m*q^{\\prime}_0*q_0*t_F**2/(4*t**2*t_F - 4*t*t_F**2) - I*m*q_0**2*t_F**2/(4*t**2*t_F - 4*t*t_F**2) + t**2*(I*m*q^{\\prime}_0**2/(4*t**2*t_F - 4*t*t_F**2) - 2*I*m*q^{\\prime}_0*q^{\\prime}_F/(4*t**2*t_F - 4*t*t_F**2) + 2*I*m*q^{\\prime}_0*q_0/(4*t**2*t_F - 4*t*t_F**2) - 2*I*m*q^{\\prime}_0*q_F/(4*t**2*t_F - 4*t*t_F**2) + I*m*q^{\\prime}_F**2/(4*t**2*t_F - 4*t*t_F**2) - 2*I*m*q^{\\prime}_F*q_0/(4*t**2*t_F - 4*t*t_F**2) + 2*I*m*q^{\\prime}_F*q_F/(4*t**2*t_F - 4*t*t_F**2) + I*m*q_0**2/(4*t**2*t_F - 4*t*t_F**2) - 2*I*m*q_0*q_F/(4*t**2*t_F - 4*t*t_F**2) + I*m*q_F**2/(4*t**2*t_F - 4*t*t_F**2)) + t*(2*I*m*q^{\\prime}_0*q^{\\prime}_F*t_F/(4*t**2*t_F - 4*t*t_F**2) - 4*I*m*q^{\\prime}_0*q_0*t_F/(4*t**2*t_F - 4*t*t_F**2) + 2*I*m*q^{\\prime}_0*q_F*t_F/(4*t**2*t_F - 4*t*t_F**2) - 2*I*m*q^{\\prime}_F**2*t_F/(4*t**2*t_F - 4*t*t_F**2) + 2*I*m*q^{\\prime}_F*q_0*t_F/(4*t**2*t_F - 4*t*t_F**2) + 2*I*m*q_0*q_F*t_F/(4*t**2*t_F - 4*t*t_F**2) - 2*I*m*q_F**2*t_F/(4*t**2*t_F - 4*t*t_F**2))"
      ]
     },
     "execution_count": 54,
     "metadata": {},
     "output_type": "execute_result"
    }
   ],
   "source": [
    "I2 = (I1intCoef * exp(I1intExp)).simplify()\n",
    "\n",
    "I1intExp.expand().collect(t)"
   ]
  }
 ],
 "metadata": {
  "kernelspec": {
   "display_name": "Python 3",
   "language": "python",
   "name": "python3"
  },
  "language_info": {
   "codemirror_mode": {
    "name": "ipython",
    "version": 3
   },
   "file_extension": ".py",
   "mimetype": "text/x-python",
   "name": "python",
   "nbconvert_exporter": "python",
   "pygments_lexer": "ipython3",
   "version": "3.12.3"
  }
 },
 "nbformat": 4,
 "nbformat_minor": 2
}
