{
 "cells": [
  {
   "cell_type": "code",
   "execution_count": 10,
   "metadata": {},
   "outputs": [
    {
     "ename": "ErrorException",
     "evalue": "syntax: invalid assignment location \"3\" around /home/puripat/Documents/Workspace/PropagatorSimulations/Simulations/jl_notebook_cell_df34fa98e69747e1a8f8a730347b8e2f_W1sZmlsZQ==.jl:16",
     "output_type": "error",
     "traceback": [
      "syntax: invalid assignment location \"3\" around /home/puripat/Documents/Workspace/PropagatorSimulations/Simulations/jl_notebook_cell_df34fa98e69747e1a8f8a730347b8e2f_W1sZmlsZQ==.jl:16\n",
      "\n",
      "Stacktrace:\n",
      " [1] top-level scope\n",
      "   @ ~/Documents/Workspace/PropagatorSimulations/Simulations/jl_notebook_cell_df34fa98e69747e1a8f8a730347b8e2f_W1sZmlsZQ==.jl:16"
     ]
    }
   ],
   "source": [
    "using Plots; plotlyjs()\n",
    "using LinearAlgebra\n",
    "using CUDA\n",
    "using Latexify\n",
    "\n",
    "# Initialization\n",
    "\n",
    "maxPos = 5\n",
    "minPos = -5\n",
    "stepPos = 0.5\n",
    "posToIndex(pos) = Int32((pos - minPos) / stepPos  + 1)\n",
    "initStateFunction(q0, q0p, σ1, s1, p1, σ2, s2, p2) = (1//2 * pi * σ1)^(1//4) * exp(-(q0 - s1)^2 / (4 * σ1^2) + im * p1 * q0) * (1//2 * pi * σ2)^(1//4) * exp(-(q0p - s2)^2 / (4 * σ2^2) + im * p2 * q0p)\n",
    "\n",
    "# Propagators\n",
    "global α, m\n",
    "α = 3,\n",
    "m = 1\n",
    "\n",
    "sc1 = m/(2*pi*im)\n",
    "sc2 = im*m/2\n",
    "sc3 = -α*im*tf/ 6\n",
    "freeProp(qf, qfp, q0, q0p, tf, t0) = @. sc1 * 1/(tf-t0) * exp(sc2/tf * ((qf - q0)^2 + (qfp - q0)^2))\n",
    "springProp(qf, qfp, q0, q0p, tf, t0) = @. sc1 * 1/(tf-t0) * exp(sc2/tf * ((qf - q0)^2 + (qfp - q0)^2)) * (1 + sc3 *(-2*(m*(q0 + qf)^2 + m * (q0p + qfp)^2 + im * tf) + 2*q0*q0p + q0*qfp + q0p*qf + 2*qf*qfp))"
   ]
  }
 ],
 "metadata": {
  "kernelspec": {
   "display_name": "Julia 1.10.4",
   "language": "julia",
   "name": "julia-1.10"
  },
  "language_info": {
   "file_extension": ".jl",
   "mimetype": "application/julia",
   "name": "julia",
   "version": "1.10.4"
  }
 },
 "nbformat": 4,
 "nbformat_minor": 2
}
