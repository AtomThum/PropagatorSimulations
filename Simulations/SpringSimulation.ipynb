{
 "cells": [
  {
   "cell_type": "code",
   "execution_count": null,
   "metadata": {},
   "outputs": [],
   "source": [
    "using Plots; plotlyjs()\n",
    "using LinearAlgebra\n",
    "using BenchmarkTools\n",
    "\n",
    "freePropagator(finPos, startPos, finTime, startTime = 0, m = 1) = sqrt(m / (2 * pi * im * (finTime - startTime))) * exp(im * m / (2 * (finTime - startTime)) * (finPos - startPos)^2)  \n",
    "freePropagatorC(qf, qfp, q0, q0p, tf, t0) = freePropagator(qf, q0, tf, t0) + freePropagator(qfp, q0p, tf, t0)\n",
    "initStateFunction(q0, q0p, σ1, s1, p1, σ2, s2, p2) = (1//2 * pi * σ1)^(1//4) * exp(-(q0 - s1)^2 / (4 * σ1^2) + im * p1 * q0) * (1//2 * pi * σ2)^(1//4) * exp(-(q0p - s2)^2 / (4 * σ2^2) + im * p2 * q0p)\n",
    "\n",
    "maxPos = 5\n",
    "minPos = -5\n",
    "stepPos = 0.25\n",
    "\n",
    "pos1Vect = collect(minPos:stepPos:maxPos)\n",
    "pos2Vect = collect(minPos:stepPos:maxPos)\n",
    "posVectSize = size(pos1Vect, 1)\n",
    "posMat = [(i, j) for i in pos1Vect, j in pos2Vect]\n",
    "\n",
    "posToIndex(pos) = Int32((pos - minPos) / stepPos  + 1)\n",
    "\n",
    "initState(q) = initStateFunction(q[1], q[2], 1, 2, 2, 1, -2, -2)\n",
    "initMat = initState.(posMat)\n",
    "initMat = round.(initMat, digits = 7)\n",
    "\n",
    "surface(pos1Vect, pos2Vect, abs.(initMat))"
   ]
  }
 ],
 "metadata": {
  "kernelspec": {
   "display_name": "Julia 1.10.4",
   "language": "julia",
   "name": "julia-1.10"
  },
  "language_info": {
   "file_extension": ".jl",
   "mimetype": "application/julia",
   "name": "julia",
   "version": "1.10.4"
  }
 },
 "nbformat": 4,
 "nbformat_minor": 2
}
