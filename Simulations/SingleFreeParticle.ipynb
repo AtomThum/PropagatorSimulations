{
 "cells": [
  {
   "cell_type": "code",
   "execution_count": 47,
   "metadata": {},
   "outputs": [
    {
     "data": {
      "text/plain": [
       "extractPolynomial (generic function with 1 method)"
      ]
     },
     "metadata": {},
     "output_type": "display_data"
    }
   ],
   "source": [
    "using SymPy\n",
    "using OffsetArrays\n",
    "\n",
    "qf, q0, p, s = symbols(\"q_F q_0 p s\", real = true)\n",
    "tf, t0, m, σ = symbols(\"t_F t_0 m σ\", real = true, positive = true)\n",
    "\n",
    "function extractPolynomial(expr, arg)\n",
    "    expr isa Sym ? nothing : expr = sympify(1)\n",
    "    expr = expand(expr)\n",
    "    polyDegree = Int(degree(expr, arg))\n",
    "    extractOneSet = []\n",
    "    for i in 0:polyDegree\n",
    "        temp = expr.coeff(arg, i)\n",
    "        push!(extractOneSet, temp)\n",
    "    end\n",
    "    polyExt = OffsetVector(extractOneSet, 0:polyDegree)\n",
    "    return polyExt\n",
    "end"
   ]
  },
  {
   "cell_type": "code",
   "execution_count": 48,
   "metadata": {},
   "outputs": [
    {
     "data": {
      "text/latex": [
       "$\\frac{4 i m p q_{F} σ^{2} - m q_{F}^{2} + 2 m q_{F} s - m s^{2} - 2 i p^{2} t_{F} σ^{2} - 2 p s t_{F}}{4 m σ^{2} + 2 i t_{F}}$"
      ],
      "text/plain": [
       "             2        2                  2        2      2            \n",
       "4⋅ⅈ⋅m⋅p⋅q_F⋅σ  - m⋅q_F  + 2⋅m⋅q_F⋅s - m⋅s  - 2⋅ⅈ⋅p ⋅t_F⋅σ  - 2⋅p⋅s⋅t_F\n",
       "──────────────────────────────────────────────────────────────────────\n",
       "                                2                                     \n",
       "                           4⋅m⋅σ  + 2⋅ⅈ⋅t_F                           "
      ]
     },
     "metadata": {},
     "output_type": "display_data"
    },
    {
     "data": {
      "text/latex": [
       "$\\frac{2 \\sqrt{\\pi} \\sqrt{t_{F}} σ}{\\sqrt{- 2 i m σ^{2} + t_{F}}}$"
      ],
      "text/plain": [
       "           _____     \n",
       "    2⋅√π⋅╲╱ t_F ⋅σ   \n",
       "─────────────────────\n",
       "   __________________\n",
       "  ╱          2       \n",
       "╲╱  - 2⋅ⅈ⋅m⋅σ  + t_F "
      ]
     },
     "metadata": {},
     "output_type": "display_data"
    }
   ],
   "source": [
    "intExpr = IM * m / (2 * tf) * (qf - q0)^2 + IM * p * q0 - (q0 - s)^2/(4 * σ^2)\n",
    "\n",
    "intPoly = extractPolynomial(intExpr, q0)\n",
    "intA = - intPoly[2]\n",
    "intB = - intPoly[1]\n",
    "intC = - intPoly[0]\n",
    "\n",
    "resExp = intB^2 / (4 * intA) - intC\n",
    "resCoef = sqrt(PI / intA)\n",
    "resExp = resExp.cancel()\n",
    "resCoef = resCoef.simplify()\n",
    "\n",
    "display(resExp)\n",
    "display(resCoef)"
   ]
  },
  {
   "cell_type": "code",
   "execution_count": 67,
   "metadata": {},
   "outputs": [
    {
     "data": {
      "text/latex": [
       "$\\frac{- 2 m^{2} q_{F}^{2} σ^{2} + 4 m^{2} q_{F} s σ^{2} - 2 m^{2} s^{2} σ^{2} + 4 m p q_{F} t_{F} σ^{2} - 4 m p s t_{F} σ^{2} - 2 p^{2} t_{F}^{2} σ^{2}}{4 m^{2} σ^{4} + t_{F}^{2}}$"
      ],
      "text/plain": [
       "     2    2  2      2        2      2  2  2                  2                \n",
       "- 2⋅m ⋅q_F ⋅σ  + 4⋅m ⋅q_F⋅s⋅σ  - 2⋅m ⋅s ⋅σ  + 4⋅m⋅p⋅q_F⋅t_F⋅σ  - 4⋅m⋅p⋅s⋅t_F⋅σ\n",
       "──────────────────────────────────────────────────────────────────────────────\n",
       "                                           2  4      2                        \n",
       "                                        4⋅m ⋅σ  + t_F                         \n",
       "\n",
       "2      2    2  2\n",
       "  - 2⋅p ⋅t_F ⋅σ \n",
       "────────────────\n",
       "                \n",
       "                "
      ]
     },
     "metadata": {},
     "output_type": "display_data"
    },
    {
     "data": {
      "text/latex": [
       "$\\frac{m σ}{\\sqrt{4 m^{2} σ^{4} + t_{F}^{2}}}$"
      ],
      "text/plain": [
       "        m⋅σ        \n",
       "───────────────────\n",
       "   ________________\n",
       "  ╱    2  4      2 \n",
       "╲╱  4⋅m ⋅σ  + t_F  "
      ]
     },
     "metadata": {},
     "output_type": "display_data"
    }
   ],
   "source": [
    "modSqExp = deepcopy(resExp)\n",
    "modSqExp += resExp.subs(IM, -IM)\n",
    "modSqExp = modSqExp.cancel()\n",
    "\n",
    "modSqCoef = sqrt(m * σ / (2 * m * σ^2 + IM * tf))\n",
    "modSqCoef *= modSqCoef.subs(IM, - IM)\n",
    "modSqCoef = modSqCoef.powsimp(force = true).expand()\n",
    "\n",
    "display(modSqExp)\n",
    "display(modSqCoef)"
   ]
  }
 ],
 "metadata": {
  "kernelspec": {
   "display_name": "Julia 1.10.4",
   "language": "julia",
   "name": "julia-1.10"
  },
  "language_info": {
   "file_extension": ".jl",
   "mimetype": "application/julia",
   "name": "julia",
   "version": "1.10.4"
  }
 },
 "nbformat": 4,
 "nbformat_minor": 2
}
